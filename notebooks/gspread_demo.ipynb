{
 "cells": [
  {
   "cell_type": "code",
   "execution_count": 15,
   "metadata": {
    "ExecuteTime": {
     "end_time": "2020-07-14T20:54:49.307776Z",
     "start_time": "2020-07-14T20:54:49.285774Z"
    }
   },
   "outputs": [],
   "source": [
    "import gspread\n",
    "\n",
    "gc = gspread.oauth()"
   ]
  },
  {
   "cell_type": "code",
   "execution_count": 16,
   "metadata": {
    "ExecuteTime": {
     "end_time": "2020-07-14T20:54:50.689924Z",
     "start_time": "2020-07-14T20:54:49.310776Z"
    }
   },
   "outputs": [],
   "source": [
    "wb_deepwork = gc.open('Deep Work')\n",
    "wb_tracker = gc.open('Personal Tracking')\n",
    "sh_focus = wb_deepwork.worksheet('Focus')\n",
    "cells_focus = sh_focus.get_all_records()"
   ]
  },
  {
   "cell_type": "code",
   "execution_count": 17,
   "metadata": {
    "ExecuteTime": {
     "end_time": "2020-07-14T20:54:50.694925Z",
     "start_time": "2020-07-14T20:54:50.690925Z"
    }
   },
   "outputs": [],
   "source": [
    "def get_cells(gc, workbook_name, worksheet_name):\n",
    "    workbook = gc.open(workbook_name)\n",
    "    worksheet = workbook.worksheet(worksheet_name)\n",
    "    cells = worksheet.get_all_records()\n",
    "\n",
    "    return cells"
   ]
  },
  {
   "cell_type": "code",
   "execution_count": 18,
   "metadata": {
    "ExecuteTime": {
     "end_time": "2020-07-14T20:54:51.120041Z",
     "start_time": "2020-07-14T20:54:50.695926Z"
    }
   },
   "outputs": [],
   "source": [
    "cells_focus = get_cells(gc, workbook_name='Deep Work', worksheet_name='Focus')"
   ]
  },
  {
   "cell_type": "code",
   "execution_count": 19,
   "metadata": {
    "ExecuteTime": {
     "end_time": "2020-07-14T20:54:51.174045Z",
     "start_time": "2020-07-14T20:54:51.121042Z"
    }
   },
   "outputs": [],
   "source": [
    "import pandas as pd, numpy as np\n",
    "from quant_helper.data_cleaning import cols_to_datetime, format_datetime_index\n",
    "\n",
    "df_focus = (\n",
    "    pd.DataFrame(cells_focus)\n",
    "    .pipe(cols_to_datetime, cols=['Start', 'Stop'])\n",
    "    .assign(duration = lambda x: (x['Stop'] - x['Start']).divide(pd.Timedelta(hours=1)))\n",
    "    .dropna(axis=0, subset=['Type'])\n",
    ")"
   ]
  },
  {
   "cell_type": "code",
   "execution_count": 20,
   "metadata": {
    "ExecuteTime": {
     "end_time": "2020-07-14T20:54:51.190043Z",
     "start_time": "2020-07-14T20:54:51.175042Z"
    }
   },
   "outputs": [
    {
     "data": {
      "text/html": [
       "<div>\n",
       "<style scoped>\n",
       "    .dataframe tbody tr th:only-of-type {\n",
       "        vertical-align: middle;\n",
       "    }\n",
       "\n",
       "    .dataframe tbody tr th {\n",
       "        vertical-align: top;\n",
       "    }\n",
       "\n",
       "    .dataframe thead th {\n",
       "        text-align: right;\n",
       "    }\n",
       "</style>\n",
       "<table border=\"1\" class=\"dataframe\">\n",
       "  <thead>\n",
       "    <tr style=\"text-align: right;\">\n",
       "      <th></th>\n",
       "      <th>Task</th>\n",
       "      <th>Start</th>\n",
       "      <th>Stop</th>\n",
       "      <th>Type</th>\n",
       "      <th>Quality</th>\n",
       "      <th>Notes</th>\n",
       "      <th>Distractions</th>\n",
       "      <th>Date</th>\n",
       "      <th>Hours</th>\n",
       "      <th>Checks/Hr</th>\n",
       "      <th>MA(10)</th>\n",
       "      <th></th>\n",
       "      <th>duration</th>\n",
       "    </tr>\n",
       "  </thead>\n",
       "  <tbody>\n",
       "    <tr>\n",
       "      <th>169</th>\n",
       "      <td>Ken's Training</td>\n",
       "      <td>2020-07-14 12:13:04</td>\n",
       "      <td>2020-07-14 13:01:00</td>\n",
       "      <td>Education</td>\n",
       "      <td>5</td>\n",
       "      <td>Screwed around the whole time</td>\n",
       "      <td>5</td>\n",
       "      <td></td>\n",
       "      <td></td>\n",
       "      <td></td>\n",
       "      <td></td>\n",
       "      <td></td>\n",
       "      <td>0.798889</td>\n",
       "    </tr>\n",
       "    <tr>\n",
       "      <th>170</th>\n",
       "      <td>Constrained Equipment Models Meeting</td>\n",
       "      <td>2020-07-14 13:01:00</td>\n",
       "      <td>2020-07-14 13:41:09</td>\n",
       "      <td>Meeting</td>\n",
       "      <td>6</td>\n",
       "      <td></td>\n",
       "      <td>5</td>\n",
       "      <td></td>\n",
       "      <td></td>\n",
       "      <td></td>\n",
       "      <td></td>\n",
       "      <td></td>\n",
       "      <td>0.669167</td>\n",
       "    </tr>\n",
       "    <tr>\n",
       "      <th>171</th>\n",
       "      <td>Create Strategy Report Template</td>\n",
       "      <td>2020-07-14 13:51:24</td>\n",
       "      <td>2020-07-14 14:12:00</td>\n",
       "      <td>Deep</td>\n",
       "      <td>10</td>\n",
       "      <td></td>\n",
       "      <td>0</td>\n",
       "      <td></td>\n",
       "      <td></td>\n",
       "      <td></td>\n",
       "      <td></td>\n",
       "      <td></td>\n",
       "      <td>0.343333</td>\n",
       "    </tr>\n",
       "    <tr>\n",
       "      <th>172</th>\n",
       "      <td>Fix ETHUSD Data</td>\n",
       "      <td>2020-07-14 14:12:00</td>\n",
       "      <td>2020-07-14 15:39:00</td>\n",
       "      <td>Deep</td>\n",
       "      <td>6</td>\n",
       "      <td>Bathroom Break</td>\n",
       "      <td>5</td>\n",
       "      <td></td>\n",
       "      <td></td>\n",
       "      <td></td>\n",
       "      <td></td>\n",
       "      <td></td>\n",
       "      <td>1.450000</td>\n",
       "    </tr>\n",
       "    <tr>\n",
       "      <th>173</th>\n",
       "      <td>Fix ETHUSD Data</td>\n",
       "      <td>2020-07-14 16:01:00</td>\n",
       "      <td>2020-07-14 16:54:32</td>\n",
       "      <td>Deep</td>\n",
       "      <td></td>\n",
       "      <td></td>\n",
       "      <td>2</td>\n",
       "      <td></td>\n",
       "      <td></td>\n",
       "      <td></td>\n",
       "      <td></td>\n",
       "      <td></td>\n",
       "      <td>0.892222</td>\n",
       "    </tr>\n",
       "  </tbody>\n",
       "</table>\n",
       "</div>"
      ],
      "text/plain": [
       "                                     Task               Start  \\\n",
       "169                        Ken's Training 2020-07-14 12:13:04   \n",
       "170  Constrained Equipment Models Meeting 2020-07-14 13:01:00   \n",
       "171       Create Strategy Report Template 2020-07-14 13:51:24   \n",
       "172                       Fix ETHUSD Data 2020-07-14 14:12:00   \n",
       "173                       Fix ETHUSD Data 2020-07-14 16:01:00   \n",
       "\n",
       "                   Stop       Type Quality                          Notes  \\\n",
       "169 2020-07-14 13:01:00  Education       5  Screwed around the whole time   \n",
       "170 2020-07-14 13:41:09    Meeting       6                                  \n",
       "171 2020-07-14 14:12:00       Deep      10                                  \n",
       "172 2020-07-14 15:39:00       Deep       6                 Bathroom Break   \n",
       "173 2020-07-14 16:54:32       Deep                                          \n",
       "\n",
       "    Distractions Date Hours Checks/Hr MA(10)    duration  \n",
       "169            5                                0.798889  \n",
       "170            5                                0.669167  \n",
       "171            0                                0.343333  \n",
       "172            5                                1.450000  \n",
       "173            2                                0.892222  "
      ]
     },
     "execution_count": 20,
     "metadata": {},
     "output_type": "execute_result"
    }
   ],
   "source": [
    "df_focus.tail()"
   ]
  },
  {
   "cell_type": "code",
   "execution_count": 21,
   "metadata": {
    "ExecuteTime": {
     "end_time": "2020-07-14T20:54:51.206041Z",
     "start_time": "2020-07-14T20:54:51.191043Z"
    }
   },
   "outputs": [],
   "source": [
    "import matplotlib.pyplot as plt\n",
    "\n",
    "summary_focus_daily = (\n",
    "    df_focus\n",
    "    .groupby([df_focus['Start'].dt.date, 'Type'])\n",
    "    ['duration']\n",
    "    .sum()\n",
    "    .unstack()\n",
    "    .pipe(format_datetime_index)\n",
    "    .resample('D')\n",
    "    .last()\n",
    "    .fillna(0)\n",
    ")"
   ]
  },
  {
   "cell_type": "code",
   "execution_count": 22,
   "metadata": {
    "ExecuteTime": {
     "end_time": "2020-07-14T20:54:51.219044Z",
     "start_time": "2020-07-14T20:54:51.207042Z"
    }
   },
   "outputs": [
    {
     "data": {
      "text/html": [
       "<div>\n",
       "<style scoped>\n",
       "    .dataframe tbody tr th:only-of-type {\n",
       "        vertical-align: middle;\n",
       "    }\n",
       "\n",
       "    .dataframe tbody tr th {\n",
       "        vertical-align: top;\n",
       "    }\n",
       "\n",
       "    .dataframe thead th {\n",
       "        text-align: right;\n",
       "    }\n",
       "</style>\n",
       "<table border=\"1\" class=\"dataframe\">\n",
       "  <thead>\n",
       "    <tr style=\"text-align: right;\">\n",
       "      <th>Type</th>\n",
       "      <th>Deep</th>\n",
       "      <th>Education</th>\n",
       "      <th>Meeting</th>\n",
       "      <th>None</th>\n",
       "      <th>Shallow</th>\n",
       "    </tr>\n",
       "    <tr>\n",
       "      <th>date</th>\n",
       "      <th></th>\n",
       "      <th></th>\n",
       "      <th></th>\n",
       "      <th></th>\n",
       "      <th></th>\n",
       "    </tr>\n",
       "  </thead>\n",
       "  <tbody>\n",
       "    <tr>\n",
       "      <th>2020-01-09</th>\n",
       "      <td>3.152222</td>\n",
       "      <td>0.000000</td>\n",
       "      <td>0.000000</td>\n",
       "      <td>0.0</td>\n",
       "      <td>0.000000</td>\n",
       "    </tr>\n",
       "    <tr>\n",
       "      <th>2020-01-10</th>\n",
       "      <td>5.115278</td>\n",
       "      <td>0.000000</td>\n",
       "      <td>0.000000</td>\n",
       "      <td>0.0</td>\n",
       "      <td>0.000000</td>\n",
       "    </tr>\n",
       "    <tr>\n",
       "      <th>2020-01-11</th>\n",
       "      <td>0.000000</td>\n",
       "      <td>0.000000</td>\n",
       "      <td>0.000000</td>\n",
       "      <td>0.0</td>\n",
       "      <td>0.000000</td>\n",
       "    </tr>\n",
       "    <tr>\n",
       "      <th>2020-01-12</th>\n",
       "      <td>4.779722</td>\n",
       "      <td>0.000000</td>\n",
       "      <td>0.000000</td>\n",
       "      <td>0.0</td>\n",
       "      <td>0.000000</td>\n",
       "    </tr>\n",
       "    <tr>\n",
       "      <th>2020-01-13</th>\n",
       "      <td>2.497500</td>\n",
       "      <td>0.000000</td>\n",
       "      <td>0.000000</td>\n",
       "      <td>0.0</td>\n",
       "      <td>0.000000</td>\n",
       "    </tr>\n",
       "    <tr>\n",
       "      <th>...</th>\n",
       "      <td>...</td>\n",
       "      <td>...</td>\n",
       "      <td>...</td>\n",
       "      <td>...</td>\n",
       "      <td>...</td>\n",
       "    </tr>\n",
       "    <tr>\n",
       "      <th>2020-07-10</th>\n",
       "      <td>1.275833</td>\n",
       "      <td>0.000000</td>\n",
       "      <td>0.750000</td>\n",
       "      <td>0.0</td>\n",
       "      <td>2.562500</td>\n",
       "    </tr>\n",
       "    <tr>\n",
       "      <th>2020-07-11</th>\n",
       "      <td>4.231667</td>\n",
       "      <td>0.000000</td>\n",
       "      <td>0.000000</td>\n",
       "      <td>0.0</td>\n",
       "      <td>1.591944</td>\n",
       "    </tr>\n",
       "    <tr>\n",
       "      <th>2020-07-12</th>\n",
       "      <td>0.000000</td>\n",
       "      <td>0.000000</td>\n",
       "      <td>0.000000</td>\n",
       "      <td>0.0</td>\n",
       "      <td>0.000000</td>\n",
       "    </tr>\n",
       "    <tr>\n",
       "      <th>2020-07-13</th>\n",
       "      <td>4.933333</td>\n",
       "      <td>2.424722</td>\n",
       "      <td>0.000000</td>\n",
       "      <td>0.0</td>\n",
       "      <td>1.988611</td>\n",
       "    </tr>\n",
       "    <tr>\n",
       "      <th>2020-07-14</th>\n",
       "      <td>4.723056</td>\n",
       "      <td>2.456111</td>\n",
       "      <td>0.669167</td>\n",
       "      <td>0.0</td>\n",
       "      <td>0.434167</td>\n",
       "    </tr>\n",
       "  </tbody>\n",
       "</table>\n",
       "<p>188 rows × 5 columns</p>\n",
       "</div>"
      ],
      "text/plain": [
       "Type            Deep  Education   Meeting  None   Shallow\n",
       "date                                                     \n",
       "2020-01-09  3.152222   0.000000  0.000000   0.0  0.000000\n",
       "2020-01-10  5.115278   0.000000  0.000000   0.0  0.000000\n",
       "2020-01-11  0.000000   0.000000  0.000000   0.0  0.000000\n",
       "2020-01-12  4.779722   0.000000  0.000000   0.0  0.000000\n",
       "2020-01-13  2.497500   0.000000  0.000000   0.0  0.000000\n",
       "...              ...        ...       ...   ...       ...\n",
       "2020-07-10  1.275833   0.000000  0.750000   0.0  2.562500\n",
       "2020-07-11  4.231667   0.000000  0.000000   0.0  1.591944\n",
       "2020-07-12  0.000000   0.000000  0.000000   0.0  0.000000\n",
       "2020-07-13  4.933333   2.424722  0.000000   0.0  1.988611\n",
       "2020-07-14  4.723056   2.456111  0.669167   0.0  0.434167\n",
       "\n",
       "[188 rows x 5 columns]"
      ]
     },
     "execution_count": 22,
     "metadata": {},
     "output_type": "execute_result"
    }
   ],
   "source": [
    "summary_focus_daily"
   ]
  },
  {
   "cell_type": "code",
   "execution_count": 23,
   "metadata": {
    "ExecuteTime": {
     "end_time": "2020-07-14T20:54:51.226042Z",
     "start_time": "2020-07-14T20:54:51.221068Z"
    }
   },
   "outputs": [],
   "source": [
    "# def convert_col_dtypes(df, cols, dtypes):\n",
    "#     for col, dtype in zip(cols, dtypes):\n",
    "#         df[col] = df[col].astype(dtype)\n",
    "\n",
    "#     return df\n",
    "\n",
    "from quant_helper.data_cleaning import convert_col_dtypes"
   ]
  },
  {
   "cell_type": "code",
   "execution_count": 24,
   "metadata": {
    "ExecuteTime": {
     "end_time": "2020-07-14T20:54:51.238042Z",
     "start_time": "2020-07-14T20:54:51.227042Z"
    }
   },
   "outputs": [],
   "source": [
    "summary_focus_daily_formatted = (\n",
    "    summary_focus_daily\n",
    "    .reset_index()\n",
    "    .pipe(convert_col_dtypes, ['date'], [str])\n",
    ")"
   ]
  },
  {
   "cell_type": "code",
   "execution_count": 25,
   "metadata": {
    "ExecuteTime": {
     "end_time": "2020-07-14T20:54:51.255042Z",
     "start_time": "2020-07-14T20:54:51.239042Z"
    }
   },
   "outputs": [
    {
     "data": {
      "text/html": [
       "<div>\n",
       "<style scoped>\n",
       "    .dataframe tbody tr th:only-of-type {\n",
       "        vertical-align: middle;\n",
       "    }\n",
       "\n",
       "    .dataframe tbody tr th {\n",
       "        vertical-align: top;\n",
       "    }\n",
       "\n",
       "    .dataframe thead th {\n",
       "        text-align: right;\n",
       "    }\n",
       "</style>\n",
       "<table border=\"1\" class=\"dataframe\">\n",
       "  <thead>\n",
       "    <tr style=\"text-align: right;\">\n",
       "      <th>Type</th>\n",
       "      <th>date</th>\n",
       "      <th>Deep</th>\n",
       "      <th>Education</th>\n",
       "      <th>Meeting</th>\n",
       "      <th>None</th>\n",
       "      <th>Shallow</th>\n",
       "    </tr>\n",
       "  </thead>\n",
       "  <tbody>\n",
       "    <tr>\n",
       "      <th>0</th>\n",
       "      <td>2020-01-09</td>\n",
       "      <td>3.152222</td>\n",
       "      <td>0.000000</td>\n",
       "      <td>0.000000</td>\n",
       "      <td>0.0</td>\n",
       "      <td>0.000000</td>\n",
       "    </tr>\n",
       "    <tr>\n",
       "      <th>1</th>\n",
       "      <td>2020-01-10</td>\n",
       "      <td>5.115278</td>\n",
       "      <td>0.000000</td>\n",
       "      <td>0.000000</td>\n",
       "      <td>0.0</td>\n",
       "      <td>0.000000</td>\n",
       "    </tr>\n",
       "    <tr>\n",
       "      <th>2</th>\n",
       "      <td>2020-01-11</td>\n",
       "      <td>0.000000</td>\n",
       "      <td>0.000000</td>\n",
       "      <td>0.000000</td>\n",
       "      <td>0.0</td>\n",
       "      <td>0.000000</td>\n",
       "    </tr>\n",
       "    <tr>\n",
       "      <th>3</th>\n",
       "      <td>2020-01-12</td>\n",
       "      <td>4.779722</td>\n",
       "      <td>0.000000</td>\n",
       "      <td>0.000000</td>\n",
       "      <td>0.0</td>\n",
       "      <td>0.000000</td>\n",
       "    </tr>\n",
       "    <tr>\n",
       "      <th>4</th>\n",
       "      <td>2020-01-13</td>\n",
       "      <td>2.497500</td>\n",
       "      <td>0.000000</td>\n",
       "      <td>0.000000</td>\n",
       "      <td>0.0</td>\n",
       "      <td>0.000000</td>\n",
       "    </tr>\n",
       "    <tr>\n",
       "      <th>...</th>\n",
       "      <td>...</td>\n",
       "      <td>...</td>\n",
       "      <td>...</td>\n",
       "      <td>...</td>\n",
       "      <td>...</td>\n",
       "      <td>...</td>\n",
       "    </tr>\n",
       "    <tr>\n",
       "      <th>183</th>\n",
       "      <td>2020-07-10</td>\n",
       "      <td>1.275833</td>\n",
       "      <td>0.000000</td>\n",
       "      <td>0.750000</td>\n",
       "      <td>0.0</td>\n",
       "      <td>2.562500</td>\n",
       "    </tr>\n",
       "    <tr>\n",
       "      <th>184</th>\n",
       "      <td>2020-07-11</td>\n",
       "      <td>4.231667</td>\n",
       "      <td>0.000000</td>\n",
       "      <td>0.000000</td>\n",
       "      <td>0.0</td>\n",
       "      <td>1.591944</td>\n",
       "    </tr>\n",
       "    <tr>\n",
       "      <th>185</th>\n",
       "      <td>2020-07-12</td>\n",
       "      <td>0.000000</td>\n",
       "      <td>0.000000</td>\n",
       "      <td>0.000000</td>\n",
       "      <td>0.0</td>\n",
       "      <td>0.000000</td>\n",
       "    </tr>\n",
       "    <tr>\n",
       "      <th>186</th>\n",
       "      <td>2020-07-13</td>\n",
       "      <td>4.933333</td>\n",
       "      <td>2.424722</td>\n",
       "      <td>0.000000</td>\n",
       "      <td>0.0</td>\n",
       "      <td>1.988611</td>\n",
       "    </tr>\n",
       "    <tr>\n",
       "      <th>187</th>\n",
       "      <td>2020-07-14</td>\n",
       "      <td>4.723056</td>\n",
       "      <td>2.456111</td>\n",
       "      <td>0.669167</td>\n",
       "      <td>0.0</td>\n",
       "      <td>0.434167</td>\n",
       "    </tr>\n",
       "  </tbody>\n",
       "</table>\n",
       "<p>188 rows × 6 columns</p>\n",
       "</div>"
      ],
      "text/plain": [
       "Type        date      Deep  Education   Meeting  None   Shallow\n",
       "0     2020-01-09  3.152222   0.000000  0.000000   0.0  0.000000\n",
       "1     2020-01-10  5.115278   0.000000  0.000000   0.0  0.000000\n",
       "2     2020-01-11  0.000000   0.000000  0.000000   0.0  0.000000\n",
       "3     2020-01-12  4.779722   0.000000  0.000000   0.0  0.000000\n",
       "4     2020-01-13  2.497500   0.000000  0.000000   0.0  0.000000\n",
       "..           ...       ...        ...       ...   ...       ...\n",
       "183   2020-07-10  1.275833   0.000000  0.750000   0.0  2.562500\n",
       "184   2020-07-11  4.231667   0.000000  0.000000   0.0  1.591944\n",
       "185   2020-07-12  0.000000   0.000000  0.000000   0.0  0.000000\n",
       "186   2020-07-13  4.933333   2.424722  0.000000   0.0  1.988611\n",
       "187   2020-07-14  4.723056   2.456111  0.669167   0.0  0.434167\n",
       "\n",
       "[188 rows x 6 columns]"
      ]
     },
     "execution_count": 25,
     "metadata": {},
     "output_type": "execute_result"
    }
   ],
   "source": [
    "summary_focus_daily_formatted"
   ]
  },
  {
   "cell_type": "code",
   "execution_count": 26,
   "metadata": {
    "ExecuteTime": {
     "end_time": "2020-07-14T20:54:51.261044Z",
     "start_time": "2020-07-14T20:54:51.256043Z"
    }
   },
   "outputs": [],
   "source": [
    "def update_gsheet_pandas(worksheet, df):\n",
    "    worksheet.update([df.columns.values.tolist()] + df.values.tolist())"
   ]
  },
  {
   "cell_type": "code",
   "execution_count": 27,
   "metadata": {
    "ExecuteTime": {
     "end_time": "2020-07-14T20:54:51.881145Z",
     "start_time": "2020-07-14T20:54:51.262044Z"
    }
   },
   "outputs": [],
   "source": [
    "sh_work = wb_tracker.worksheet('Work')"
   ]
  },
  {
   "cell_type": "code",
   "execution_count": 28,
   "metadata": {
    "ExecuteTime": {
     "end_time": "2020-07-14T20:54:52.112175Z",
     "start_time": "2020-07-14T20:54:51.882146Z"
    }
   },
   "outputs": [],
   "source": [
    "update_gsheet_pandas(sh_work, summary_focus_daily_formatted)"
   ]
  },
  {
   "cell_type": "markdown",
   "metadata": {},
   "source": [
    "# Logging Stuff"
   ]
  },
  {
   "cell_type": "code",
   "execution_count": 29,
   "metadata": {
    "ExecuteTime": {
     "end_time": "2020-07-14T20:54:52.118179Z",
     "start_time": "2020-07-14T20:54:52.113179Z"
    }
   },
   "outputs": [],
   "source": [
    "from discord_webhook import DiscordWebhook, DiscordEmbed"
   ]
  },
  {
   "cell_type": "code",
   "execution_count": null,
   "metadata": {},
   "outputs": [],
   "source": []
  }
 ],
 "metadata": {
  "hide_input": false,
  "kernelspec": {
   "display_name": "Python 3",
   "language": "python",
   "name": "python3"
  },
  "language_info": {
   "codemirror_mode": {
    "name": "ipython",
    "version": 3
   },
   "file_extension": ".py",
   "mimetype": "text/x-python",
   "name": "python",
   "nbconvert_exporter": "python",
   "pygments_lexer": "ipython3",
   "version": "3.7.3"
  },
  "toc": {
   "base_numbering": 1,
   "nav_menu": {},
   "number_sections": true,
   "sideBar": true,
   "skip_h1_title": false,
   "title_cell": "Table of Contents",
   "title_sidebar": "Contents",
   "toc_cell": false,
   "toc_position": {},
   "toc_section_display": true,
   "toc_window_display": false
  },
  "varInspector": {
   "cols": {
    "lenName": 16,
    "lenType": 16,
    "lenVar": 40
   },
   "kernels_config": {
    "python": {
     "delete_cmd_postfix": "",
     "delete_cmd_prefix": "del ",
     "library": "var_list.py",
     "varRefreshCmd": "print(var_dic_list())"
    },
    "r": {
     "delete_cmd_postfix": ") ",
     "delete_cmd_prefix": "rm(",
     "library": "var_list.r",
     "varRefreshCmd": "cat(var_dic_list()) "
    }
   },
   "types_to_exclude": [
    "module",
    "function",
    "builtin_function_or_method",
    "instance",
    "_Feature"
   ],
   "window_display": false
  }
 },
 "nbformat": 4,
 "nbformat_minor": 4
}
