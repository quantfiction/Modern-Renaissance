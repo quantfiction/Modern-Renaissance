{
 "cells": [
  {
   "cell_type": "code",
   "execution_count": 1,
   "metadata": {
    "ExecuteTime": {
     "end_time": "2020-07-14T14:11:28.276756Z",
     "start_time": "2020-07-14T14:11:28.029751Z"
    }
   },
   "outputs": [],
   "source": [
    "import gspread\n",
    "\n",
    "gc = gspread.oauth()"
   ]
  },
  {
   "cell_type": "code",
   "execution_count": 2,
   "metadata": {
    "ExecuteTime": {
     "end_time": "2020-07-14T14:11:30.169745Z",
     "start_time": "2020-07-14T14:11:28.277758Z"
    }
   },
   "outputs": [],
   "source": [
    "wb_deepwork = gc.open('Deep Work')\n",
    "wb_tracker = gc.open('Personal Tracking')\n",
    "sh_focus = wb_deepwork.worksheet('Focus')\n",
    "cells_focus = sh_focus.get_all_records()"
   ]
  },
  {
   "cell_type": "code",
   "execution_count": 3,
   "metadata": {
    "ExecuteTime": {
     "end_time": "2020-07-14T14:11:30.173746Z",
     "start_time": "2020-07-14T14:11:30.170746Z"
    }
   },
   "outputs": [],
   "source": [
    "def get_cells(gc, workbook_name, worksheet_name):\n",
    "    workbook = gc.open(workbook_name)\n",
    "    worksheet = workbook.worksheet(worksheet_name)\n",
    "    cells = worksheet.get_all_records()\n",
    "\n",
    "    return cells"
   ]
  },
  {
   "cell_type": "code",
   "execution_count": 4,
   "metadata": {
    "ExecuteTime": {
     "end_time": "2020-07-14T14:11:31.044423Z",
     "start_time": "2020-07-14T14:11:30.174746Z"
    }
   },
   "outputs": [],
   "source": [
    "cells_focus = get_cells(gc, workbook_name='Deep Work', worksheet_name='Focus')"
   ]
  },
  {
   "cell_type": "code",
   "execution_count": 5,
   "metadata": {
    "ExecuteTime": {
     "end_time": "2020-07-14T14:11:32.187927Z",
     "start_time": "2020-07-14T14:11:31.044423Z"
    }
   },
   "outputs": [],
   "source": [
    "import pandas as pd, numpy as np\n",
    "from quant_helper.data_cleaning import cols_to_datetime, format_datetime_index\n",
    "\n",
    "df_focus = (\n",
    "    pd.DataFrame(cells_focus)\n",
    "    .pipe(cols_to_datetime, cols=['Start', 'Stop'])\n",
    "    .assign(duration = lambda x: (x['Stop'] - x['Start']).divide(pd.Timedelta(hours=1)))\n",
    "    .dropna(axis=0, subset=['Type'])\n",
    ")"
   ]
  },
  {
   "cell_type": "code",
   "execution_count": 6,
   "metadata": {
    "ExecuteTime": {
     "end_time": "2020-07-14T14:11:32.203927Z",
     "start_time": "2020-07-14T14:11:32.188927Z"
    }
   },
   "outputs": [
    {
     "data": {
      "text/html": [
       "<div>\n",
       "<style scoped>\n",
       "    .dataframe tbody tr th:only-of-type {\n",
       "        vertical-align: middle;\n",
       "    }\n",
       "\n",
       "    .dataframe tbody tr th {\n",
       "        vertical-align: top;\n",
       "    }\n",
       "\n",
       "    .dataframe thead th {\n",
       "        text-align: right;\n",
       "    }\n",
       "</style>\n",
       "<table border=\"1\" class=\"dataframe\">\n",
       "  <thead>\n",
       "    <tr style=\"text-align: right;\">\n",
       "      <th></th>\n",
       "      <th>Task</th>\n",
       "      <th>Start</th>\n",
       "      <th>Stop</th>\n",
       "      <th>Type</th>\n",
       "      <th>Quality</th>\n",
       "      <th>Notes</th>\n",
       "      <th>Phone Checks</th>\n",
       "      <th>Date</th>\n",
       "      <th>Hours</th>\n",
       "      <th>Checks/Hr</th>\n",
       "      <th>MA(10)</th>\n",
       "      <th></th>\n",
       "      <th>duration</th>\n",
       "    </tr>\n",
       "  </thead>\n",
       "  <tbody>\n",
       "    <tr>\n",
       "      <th>162</th>\n",
       "      <td>Logging for Markets Science Scripts</td>\n",
       "      <td>2020-07-13 12:44:52</td>\n",
       "      <td>2020-07-13 15:50:00</td>\n",
       "      <td>Deep</td>\n",
       "      <td>7</td>\n",
       "      <td>Chat with BD</td>\n",
       "      <td>0</td>\n",
       "      <td></td>\n",
       "      <td></td>\n",
       "      <td></td>\n",
       "      <td></td>\n",
       "      <td></td>\n",
       "      <td>3.085556</td>\n",
       "    </tr>\n",
       "    <tr>\n",
       "      <th>163</th>\n",
       "      <td>Logging for Markets Science Scripts</td>\n",
       "      <td>2020-07-13 16:30:00</td>\n",
       "      <td>2020-07-13 18:00:00</td>\n",
       "      <td>Shallow</td>\n",
       "      <td>7</td>\n",
       "      <td></td>\n",
       "      <td>0</td>\n",
       "      <td></td>\n",
       "      <td></td>\n",
       "      <td></td>\n",
       "      <td></td>\n",
       "      <td></td>\n",
       "      <td>1.500000</td>\n",
       "    </tr>\n",
       "    <tr>\n",
       "      <th>164</th>\n",
       "      <td>Clear out daily tasks</td>\n",
       "      <td>2020-07-14 07:37:11</td>\n",
       "      <td>2020-07-14 08:03:14</td>\n",
       "      <td>Shallow</td>\n",
       "      <td>9</td>\n",
       "      <td></td>\n",
       "      <td>0</td>\n",
       "      <td></td>\n",
       "      <td></td>\n",
       "      <td></td>\n",
       "      <td></td>\n",
       "      <td></td>\n",
       "      <td>0.434167</td>\n",
       "    </tr>\n",
       "    <tr>\n",
       "      <th>165</th>\n",
       "      <td>Troubleshoot python logging</td>\n",
       "      <td>2020-07-14 08:03:33</td>\n",
       "      <td>2020-07-14 08:22:44</td>\n",
       "      <td>Deep</td>\n",
       "      <td>10</td>\n",
       "      <td></td>\n",
       "      <td>0</td>\n",
       "      <td></td>\n",
       "      <td></td>\n",
       "      <td></td>\n",
       "      <td></td>\n",
       "      <td></td>\n",
       "      <td>0.319722</td>\n",
       "    </tr>\n",
       "    <tr>\n",
       "      <th>166</th>\n",
       "      <td>Work on Modern Renaissance</td>\n",
       "      <td>2020-07-14 08:22:44</td>\n",
       "      <td>2020-07-14 10:05:48</td>\n",
       "      <td>Deep</td>\n",
       "      <td>9</td>\n",
       "      <td></td>\n",
       "      <td>1</td>\n",
       "      <td></td>\n",
       "      <td></td>\n",
       "      <td></td>\n",
       "      <td></td>\n",
       "      <td></td>\n",
       "      <td>1.717778</td>\n",
       "    </tr>\n",
       "  </tbody>\n",
       "</table>\n",
       "</div>"
      ],
      "text/plain": [
       "                                    Task               Start  \\\n",
       "162  Logging for Markets Science Scripts 2020-07-13 12:44:52   \n",
       "163  Logging for Markets Science Scripts 2020-07-13 16:30:00   \n",
       "164                Clear out daily tasks 2020-07-14 07:37:11   \n",
       "165          Troubleshoot python logging 2020-07-14 08:03:33   \n",
       "166           Work on Modern Renaissance 2020-07-14 08:22:44   \n",
       "\n",
       "                   Stop     Type Quality         Notes Phone Checks Date  \\\n",
       "162 2020-07-13 15:50:00     Deep       7  Chat with BD            0        \n",
       "163 2020-07-13 18:00:00  Shallow       7                          0        \n",
       "164 2020-07-14 08:03:14  Shallow       9                          0        \n",
       "165 2020-07-14 08:22:44     Deep      10                          0        \n",
       "166 2020-07-14 10:05:48     Deep       9                          1        \n",
       "\n",
       "    Hours Checks/Hr MA(10)    duration  \n",
       "162                           3.085556  \n",
       "163                           1.500000  \n",
       "164                           0.434167  \n",
       "165                           0.319722  \n",
       "166                           1.717778  "
      ]
     },
     "execution_count": 6,
     "metadata": {},
     "output_type": "execute_result"
    }
   ],
   "source": [
    "df_focus.tail()"
   ]
  },
  {
   "cell_type": "code",
   "execution_count": 7,
   "metadata": {
    "ExecuteTime": {
     "end_time": "2020-07-14T14:11:32.414937Z",
     "start_time": "2020-07-14T14:11:32.204927Z"
    }
   },
   "outputs": [],
   "source": [
    "import matplotlib.pyplot as plt\n",
    "\n",
    "summary_focus_daily = (\n",
    "    df_focus\n",
    "    .groupby([df_focus['Start'].dt.date, 'Type'])\n",
    "    ['duration']\n",
    "    .sum()\n",
    "    .unstack()\n",
    "    .pipe(format_datetime_index)\n",
    "    .resample('D')\n",
    "    .last()\n",
    "    .fillna(0)\n",
    ")"
   ]
  },
  {
   "cell_type": "code",
   "execution_count": 8,
   "metadata": {
    "ExecuteTime": {
     "end_time": "2020-07-14T14:11:32.426329Z",
     "start_time": "2020-07-14T14:11:32.415936Z"
    }
   },
   "outputs": [
    {
     "data": {
      "text/html": [
       "<div>\n",
       "<style scoped>\n",
       "    .dataframe tbody tr th:only-of-type {\n",
       "        vertical-align: middle;\n",
       "    }\n",
       "\n",
       "    .dataframe tbody tr th {\n",
       "        vertical-align: top;\n",
       "    }\n",
       "\n",
       "    .dataframe thead th {\n",
       "        text-align: right;\n",
       "    }\n",
       "</style>\n",
       "<table border=\"1\" class=\"dataframe\">\n",
       "  <thead>\n",
       "    <tr style=\"text-align: right;\">\n",
       "      <th>Type</th>\n",
       "      <th>Deep</th>\n",
       "      <th>Education</th>\n",
       "      <th>Meeting</th>\n",
       "      <th>None</th>\n",
       "      <th>Shallow</th>\n",
       "    </tr>\n",
       "    <tr>\n",
       "      <th>date</th>\n",
       "      <th></th>\n",
       "      <th></th>\n",
       "      <th></th>\n",
       "      <th></th>\n",
       "      <th></th>\n",
       "    </tr>\n",
       "  </thead>\n",
       "  <tbody>\n",
       "    <tr>\n",
       "      <th>2020-01-09</th>\n",
       "      <td>3.152222</td>\n",
       "      <td>0.000000</td>\n",
       "      <td>0.00</td>\n",
       "      <td>0.0</td>\n",
       "      <td>0.000000</td>\n",
       "    </tr>\n",
       "    <tr>\n",
       "      <th>2020-01-10</th>\n",
       "      <td>5.115278</td>\n",
       "      <td>0.000000</td>\n",
       "      <td>0.00</td>\n",
       "      <td>0.0</td>\n",
       "      <td>0.000000</td>\n",
       "    </tr>\n",
       "    <tr>\n",
       "      <th>2020-01-11</th>\n",
       "      <td>0.000000</td>\n",
       "      <td>0.000000</td>\n",
       "      <td>0.00</td>\n",
       "      <td>0.0</td>\n",
       "      <td>0.000000</td>\n",
       "    </tr>\n",
       "    <tr>\n",
       "      <th>2020-01-12</th>\n",
       "      <td>4.779722</td>\n",
       "      <td>0.000000</td>\n",
       "      <td>0.00</td>\n",
       "      <td>0.0</td>\n",
       "      <td>0.000000</td>\n",
       "    </tr>\n",
       "    <tr>\n",
       "      <th>2020-01-13</th>\n",
       "      <td>2.497500</td>\n",
       "      <td>0.000000</td>\n",
       "      <td>0.00</td>\n",
       "      <td>0.0</td>\n",
       "      <td>0.000000</td>\n",
       "    </tr>\n",
       "    <tr>\n",
       "      <th>...</th>\n",
       "      <td>...</td>\n",
       "      <td>...</td>\n",
       "      <td>...</td>\n",
       "      <td>...</td>\n",
       "      <td>...</td>\n",
       "    </tr>\n",
       "    <tr>\n",
       "      <th>2020-07-10</th>\n",
       "      <td>1.275833</td>\n",
       "      <td>0.000000</td>\n",
       "      <td>0.75</td>\n",
       "      <td>0.0</td>\n",
       "      <td>2.562500</td>\n",
       "    </tr>\n",
       "    <tr>\n",
       "      <th>2020-07-11</th>\n",
       "      <td>4.231667</td>\n",
       "      <td>0.000000</td>\n",
       "      <td>0.00</td>\n",
       "      <td>0.0</td>\n",
       "      <td>1.591944</td>\n",
       "    </tr>\n",
       "    <tr>\n",
       "      <th>2020-07-12</th>\n",
       "      <td>0.000000</td>\n",
       "      <td>0.000000</td>\n",
       "      <td>0.00</td>\n",
       "      <td>0.0</td>\n",
       "      <td>0.000000</td>\n",
       "    </tr>\n",
       "    <tr>\n",
       "      <th>2020-07-13</th>\n",
       "      <td>4.933333</td>\n",
       "      <td>2.424722</td>\n",
       "      <td>0.00</td>\n",
       "      <td>0.0</td>\n",
       "      <td>1.988611</td>\n",
       "    </tr>\n",
       "    <tr>\n",
       "      <th>2020-07-14</th>\n",
       "      <td>2.037500</td>\n",
       "      <td>0.000000</td>\n",
       "      <td>0.00</td>\n",
       "      <td>0.0</td>\n",
       "      <td>0.434167</td>\n",
       "    </tr>\n",
       "  </tbody>\n",
       "</table>\n",
       "<p>188 rows × 5 columns</p>\n",
       "</div>"
      ],
      "text/plain": [
       "Type            Deep  Education  Meeting  None   Shallow\n",
       "date                                                    \n",
       "2020-01-09  3.152222   0.000000     0.00   0.0  0.000000\n",
       "2020-01-10  5.115278   0.000000     0.00   0.0  0.000000\n",
       "2020-01-11  0.000000   0.000000     0.00   0.0  0.000000\n",
       "2020-01-12  4.779722   0.000000     0.00   0.0  0.000000\n",
       "2020-01-13  2.497500   0.000000     0.00   0.0  0.000000\n",
       "...              ...        ...      ...   ...       ...\n",
       "2020-07-10  1.275833   0.000000     0.75   0.0  2.562500\n",
       "2020-07-11  4.231667   0.000000     0.00   0.0  1.591944\n",
       "2020-07-12  0.000000   0.000000     0.00   0.0  0.000000\n",
       "2020-07-13  4.933333   2.424722     0.00   0.0  1.988611\n",
       "2020-07-14  2.037500   0.000000     0.00   0.0  0.434167\n",
       "\n",
       "[188 rows x 5 columns]"
      ]
     },
     "execution_count": 8,
     "metadata": {},
     "output_type": "execute_result"
    }
   ],
   "source": [
    "summary_focus_daily"
   ]
  },
  {
   "cell_type": "code",
   "execution_count": 9,
   "metadata": {
    "ExecuteTime": {
     "end_time": "2020-07-14T14:11:32.433326Z",
     "start_time": "2020-07-14T14:11:32.427327Z"
    }
   },
   "outputs": [],
   "source": [
    "# def convert_col_dtypes(df, cols, dtypes):\n",
    "#     for col, dtype in zip(cols, dtypes):\n",
    "#         df[col] = df[col].astype(dtype)\n",
    "\n",
    "#     return df\n",
    "\n",
    "from quant_helper.data_cleaning import convert_col_dtypes"
   ]
  },
  {
   "cell_type": "code",
   "execution_count": 10,
   "metadata": {
    "ExecuteTime": {
     "end_time": "2020-07-14T14:11:32.440326Z",
     "start_time": "2020-07-14T14:11:32.434327Z"
    }
   },
   "outputs": [],
   "source": [
    "summary_focus_daily_formatted = (\n",
    "    summary_focus_daily\n",
    "    .reset_index()\n",
    "    .pipe(convert_col_dtypes, ['date'], [str])\n",
    ")"
   ]
  },
  {
   "cell_type": "code",
   "execution_count": 11,
   "metadata": {
    "ExecuteTime": {
     "end_time": "2020-07-14T14:11:32.454327Z",
     "start_time": "2020-07-14T14:11:32.441328Z"
    }
   },
   "outputs": [
    {
     "data": {
      "text/html": [
       "<div>\n",
       "<style scoped>\n",
       "    .dataframe tbody tr th:only-of-type {\n",
       "        vertical-align: middle;\n",
       "    }\n",
       "\n",
       "    .dataframe tbody tr th {\n",
       "        vertical-align: top;\n",
       "    }\n",
       "\n",
       "    .dataframe thead th {\n",
       "        text-align: right;\n",
       "    }\n",
       "</style>\n",
       "<table border=\"1\" class=\"dataframe\">\n",
       "  <thead>\n",
       "    <tr style=\"text-align: right;\">\n",
       "      <th>Type</th>\n",
       "      <th>date</th>\n",
       "      <th>Deep</th>\n",
       "      <th>Education</th>\n",
       "      <th>Meeting</th>\n",
       "      <th>None</th>\n",
       "      <th>Shallow</th>\n",
       "    </tr>\n",
       "  </thead>\n",
       "  <tbody>\n",
       "    <tr>\n",
       "      <th>0</th>\n",
       "      <td>2020-01-09</td>\n",
       "      <td>3.152222</td>\n",
       "      <td>0.000000</td>\n",
       "      <td>0.00</td>\n",
       "      <td>0.0</td>\n",
       "      <td>0.000000</td>\n",
       "    </tr>\n",
       "    <tr>\n",
       "      <th>1</th>\n",
       "      <td>2020-01-10</td>\n",
       "      <td>5.115278</td>\n",
       "      <td>0.000000</td>\n",
       "      <td>0.00</td>\n",
       "      <td>0.0</td>\n",
       "      <td>0.000000</td>\n",
       "    </tr>\n",
       "    <tr>\n",
       "      <th>2</th>\n",
       "      <td>2020-01-11</td>\n",
       "      <td>0.000000</td>\n",
       "      <td>0.000000</td>\n",
       "      <td>0.00</td>\n",
       "      <td>0.0</td>\n",
       "      <td>0.000000</td>\n",
       "    </tr>\n",
       "    <tr>\n",
       "      <th>3</th>\n",
       "      <td>2020-01-12</td>\n",
       "      <td>4.779722</td>\n",
       "      <td>0.000000</td>\n",
       "      <td>0.00</td>\n",
       "      <td>0.0</td>\n",
       "      <td>0.000000</td>\n",
       "    </tr>\n",
       "    <tr>\n",
       "      <th>4</th>\n",
       "      <td>2020-01-13</td>\n",
       "      <td>2.497500</td>\n",
       "      <td>0.000000</td>\n",
       "      <td>0.00</td>\n",
       "      <td>0.0</td>\n",
       "      <td>0.000000</td>\n",
       "    </tr>\n",
       "    <tr>\n",
       "      <th>...</th>\n",
       "      <td>...</td>\n",
       "      <td>...</td>\n",
       "      <td>...</td>\n",
       "      <td>...</td>\n",
       "      <td>...</td>\n",
       "      <td>...</td>\n",
       "    </tr>\n",
       "    <tr>\n",
       "      <th>183</th>\n",
       "      <td>2020-07-10</td>\n",
       "      <td>1.275833</td>\n",
       "      <td>0.000000</td>\n",
       "      <td>0.75</td>\n",
       "      <td>0.0</td>\n",
       "      <td>2.562500</td>\n",
       "    </tr>\n",
       "    <tr>\n",
       "      <th>184</th>\n",
       "      <td>2020-07-11</td>\n",
       "      <td>4.231667</td>\n",
       "      <td>0.000000</td>\n",
       "      <td>0.00</td>\n",
       "      <td>0.0</td>\n",
       "      <td>1.591944</td>\n",
       "    </tr>\n",
       "    <tr>\n",
       "      <th>185</th>\n",
       "      <td>2020-07-12</td>\n",
       "      <td>0.000000</td>\n",
       "      <td>0.000000</td>\n",
       "      <td>0.00</td>\n",
       "      <td>0.0</td>\n",
       "      <td>0.000000</td>\n",
       "    </tr>\n",
       "    <tr>\n",
       "      <th>186</th>\n",
       "      <td>2020-07-13</td>\n",
       "      <td>4.933333</td>\n",
       "      <td>2.424722</td>\n",
       "      <td>0.00</td>\n",
       "      <td>0.0</td>\n",
       "      <td>1.988611</td>\n",
       "    </tr>\n",
       "    <tr>\n",
       "      <th>187</th>\n",
       "      <td>2020-07-14</td>\n",
       "      <td>2.037500</td>\n",
       "      <td>0.000000</td>\n",
       "      <td>0.00</td>\n",
       "      <td>0.0</td>\n",
       "      <td>0.434167</td>\n",
       "    </tr>\n",
       "  </tbody>\n",
       "</table>\n",
       "<p>188 rows × 6 columns</p>\n",
       "</div>"
      ],
      "text/plain": [
       "Type        date      Deep  Education  Meeting  None   Shallow\n",
       "0     2020-01-09  3.152222   0.000000     0.00   0.0  0.000000\n",
       "1     2020-01-10  5.115278   0.000000     0.00   0.0  0.000000\n",
       "2     2020-01-11  0.000000   0.000000     0.00   0.0  0.000000\n",
       "3     2020-01-12  4.779722   0.000000     0.00   0.0  0.000000\n",
       "4     2020-01-13  2.497500   0.000000     0.00   0.0  0.000000\n",
       "..           ...       ...        ...      ...   ...       ...\n",
       "183   2020-07-10  1.275833   0.000000     0.75   0.0  2.562500\n",
       "184   2020-07-11  4.231667   0.000000     0.00   0.0  1.591944\n",
       "185   2020-07-12  0.000000   0.000000     0.00   0.0  0.000000\n",
       "186   2020-07-13  4.933333   2.424722     0.00   0.0  1.988611\n",
       "187   2020-07-14  2.037500   0.000000     0.00   0.0  0.434167\n",
       "\n",
       "[188 rows x 6 columns]"
      ]
     },
     "execution_count": 11,
     "metadata": {},
     "output_type": "execute_result"
    }
   ],
   "source": [
    "summary_focus_daily_formatted"
   ]
  },
  {
   "cell_type": "code",
   "execution_count": 12,
   "metadata": {
    "ExecuteTime": {
     "end_time": "2020-07-14T14:11:32.460327Z",
     "start_time": "2020-07-14T14:11:32.455327Z"
    }
   },
   "outputs": [],
   "source": [
    "def update_gsheet_pandas(worksheet, df):\n",
    "    worksheet.update([df.columns.values.tolist()] + df.values.tolist())"
   ]
  },
  {
   "cell_type": "code",
   "execution_count": 13,
   "metadata": {
    "ExecuteTime": {
     "end_time": "2020-07-14T14:11:32.929948Z",
     "start_time": "2020-07-14T14:11:32.461326Z"
    }
   },
   "outputs": [],
   "source": [
    "sh_work = wb_tracker.worksheet('Work')"
   ]
  },
  {
   "cell_type": "code",
   "execution_count": 14,
   "metadata": {
    "ExecuteTime": {
     "end_time": "2020-07-14T14:11:33.264478Z",
     "start_time": "2020-07-14T14:11:32.930949Z"
    }
   },
   "outputs": [],
   "source": [
    "update_gsheet_pandas(sh_work, summary_focus_daily_formatted)"
   ]
  },
  {
   "cell_type": "markdown",
   "metadata": {},
   "source": [
    "# Logging Stuff"
   ]
  },
  {
   "cell_type": "code",
   "execution_count": 62,
   "metadata": {
    "ExecuteTime": {
     "end_time": "2020-07-13T19:37:02.974633Z",
     "start_time": "2020-07-13T19:37:02.972633Z"
    }
   },
   "outputs": [],
   "source": [
    "from discord_webhook import DiscordWebhook, DiscordEmbed"
   ]
  },
  {
   "cell_type": "code",
   "execution_count": null,
   "metadata": {},
   "outputs": [],
   "source": []
  }
 ],
 "metadata": {
  "hide_input": false,
  "kernelspec": {
   "display_name": "Python 3",
   "language": "python",
   "name": "python3"
  },
  "language_info": {
   "codemirror_mode": {
    "name": "ipython",
    "version": 3
   },
   "file_extension": ".py",
   "mimetype": "text/x-python",
   "name": "python",
   "nbconvert_exporter": "python",
   "pygments_lexer": "ipython3",
   "version": "3.7.3"
  },
  "toc": {
   "base_numbering": 1,
   "nav_menu": {},
   "number_sections": true,
   "sideBar": true,
   "skip_h1_title": false,
   "title_cell": "Table of Contents",
   "title_sidebar": "Contents",
   "toc_cell": false,
   "toc_position": {},
   "toc_section_display": true,
   "toc_window_display": false
  },
  "varInspector": {
   "cols": {
    "lenName": 16,
    "lenType": 16,
    "lenVar": 40
   },
   "kernels_config": {
    "python": {
     "delete_cmd_postfix": "",
     "delete_cmd_prefix": "del ",
     "library": "var_list.py",
     "varRefreshCmd": "print(var_dic_list())"
    },
    "r": {
     "delete_cmd_postfix": ") ",
     "delete_cmd_prefix": "rm(",
     "library": "var_list.r",
     "varRefreshCmd": "cat(var_dic_list()) "
    }
   },
   "types_to_exclude": [
    "module",
    "function",
    "builtin_function_or_method",
    "instance",
    "_Feature"
   ],
   "window_display": false
  }
 },
 "nbformat": 4,
 "nbformat_minor": 4
}
