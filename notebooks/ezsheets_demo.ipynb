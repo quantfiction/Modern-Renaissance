{
 "cells": [
  {
   "cell_type": "code",
   "execution_count": 6,
   "metadata": {
    "ExecuteTime": {
     "end_time": "2020-07-09T21:44:20.545333Z",
     "start_time": "2020-07-09T21:44:19.960779Z"
    }
   },
   "outputs": [
    {
     "data": {
      "text/plain": [
       "True"
      ]
     },
     "execution_count": 6,
     "metadata": {},
     "output_type": "execute_result"
    }
   ],
   "source": [
    "import ezsheets\n",
    "paths = dict(\n",
    "    credentialsFile=\"../config_files/credentials-sheets.json\",\n",
    "    sheetsTokenFile=\"../config_files/token-sheets.pickle\",\n",
    "    driveTokenFile=\"../config_files/token-drive.pickle\",\n",
    ")\n",
    "ezsheets.init(**paths)"
   ]
  },
  {
   "cell_type": "code",
   "execution_count": 11,
   "metadata": {
    "ExecuteTime": {
     "end_time": "2020-07-09T21:48:47.451459Z",
     "start_time": "2020-07-09T21:48:44.411647Z"
    }
   },
   "outputs": [],
   "source": [
    "ss = ezsheets.Spreadsheet('1qqsL8AsDhA7OFiTpLuB4GOsa6T6dgkXuYgIiRog6PXM')"
   ]
  },
  {
   "cell_type": "code",
   "execution_count": 24,
   "metadata": {
    "ExecuteTime": {
     "end_time": "2020-07-09T21:58:31.814282Z",
     "start_time": "2020-07-09T21:58:31.811280Z"
    }
   },
   "outputs": [
    {
     "data": {
      "text/plain": [
       "(<Sheet sheetId=0, title='Focus', rowCount=1000, columnCount=30>,\n",
       " <Sheet sheetId=511139956, title='Summary', rowCount=1000, columnCount=26>,\n",
       " <Sheet sheetId=1651647774, title='Books', rowCount=1000, columnCount=30>,\n",
       " <Sheet sheetId=447162236, title='Articles', rowCount=1000, columnCount=28>)"
      ]
     },
     "execution_count": 24,
     "metadata": {},
     "output_type": "execute_result"
    }
   ],
   "source": [
    "ss.sheets"
   ]
  },
  {
   "cell_type": "code",
   "execution_count": 27,
   "metadata": {
    "ExecuteTime": {
     "end_time": "2020-07-09T22:00:21.421035Z",
     "start_time": "2020-07-09T22:00:21.417035Z"
    }
   },
   "outputs": [],
   "source": [
    "focus_sheet = ss.sheets[0]"
   ]
  },
  {
   "cell_type": "code",
   "execution_count": 32,
   "metadata": {
    "ExecuteTime": {
     "end_time": "2020-07-09T22:03:16.171525Z",
     "start_time": "2020-07-09T22:03:16.130526Z"
    }
   },
   "outputs": [],
   "source": [
    "focus_sheet.getRow?"
   ]
  }
 ],
 "metadata": {
  "hide_input": false,
  "kernelspec": {
   "display_name": "Python 3",
   "language": "python",
   "name": "python3"
  },
  "language_info": {
   "codemirror_mode": {
    "name": "ipython",
    "version": 3
   },
   "file_extension": ".py",
   "mimetype": "text/x-python",
   "name": "python",
   "nbconvert_exporter": "python",
   "pygments_lexer": "ipython3",
   "version": "3.7.3"
  },
  "toc": {
   "base_numbering": 1,
   "nav_menu": {},
   "number_sections": true,
   "sideBar": true,
   "skip_h1_title": false,
   "title_cell": "Table of Contents",
   "title_sidebar": "Contents",
   "toc_cell": false,
   "toc_position": {},
   "toc_section_display": true,
   "toc_window_display": false
  },
  "varInspector": {
   "cols": {
    "lenName": 16,
    "lenType": 16,
    "lenVar": 40
   },
   "kernels_config": {
    "python": {
     "delete_cmd_postfix": "",
     "delete_cmd_prefix": "del ",
     "library": "var_list.py",
     "varRefreshCmd": "print(var_dic_list())"
    },
    "r": {
     "delete_cmd_postfix": ") ",
     "delete_cmd_prefix": "rm(",
     "library": "var_list.r",
     "varRefreshCmd": "cat(var_dic_list()) "
    }
   },
   "types_to_exclude": [
    "module",
    "function",
    "builtin_function_or_method",
    "instance",
    "_Feature"
   ],
   "window_display": false
  }
 },
 "nbformat": 4,
 "nbformat_minor": 4
}
